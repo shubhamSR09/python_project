{
 "cells": [
  {
   "cell_type": "code",
   "execution_count": 1,
   "id": "db32efbf",
   "metadata": {},
   "outputs": [],
   "source": [
    "from tkinter import*\n",
    "from pytube import YouTube"
   ]
  },
  {
   "cell_type": "code",
   "execution_count": null,
   "id": "e37ba2d9",
   "metadata": {},
   "outputs": [],
   "source": [
    "root = Tk()\n",
    "root.geometry('600x400')\n",
    "root.resizable(0,0)\n",
    "root.title(\"YouTube Video Downloader\")\n",
    "Label(root,text=\"Youtube Video Downloader\",font = 'arial').pack()\n",
    "\n",
    "link = StringVar()\n",
    "Label(root,text=\"Paste Link Here:\",font = 'arial').place(x=250,y=50)\n",
    "link_text = Entry(root,width=70,textvariable=link).place(x=32,y=90)\n",
    "\n",
    "def Downloader():\n",
    "    url = YouTube(str(link.get()))\n",
    "    video = url.streams.first()\n",
    "    video.download()\n",
    "    Label(root,text='DOWNLOAD',font='arial').place(x=250,y=250)\n",
    "\n",
    "    \n",
    "\n",
    "\n",
    "Button(root,text = 'Download',font='arial',bg='red',command=Downloader).place(x=250,y=200)\n",
    "root=mainloop()"
   ]
  },
  {
   "cell_type": "code",
   "execution_count": null,
   "id": "34c6b1a0",
   "metadata": {},
   "outputs": [],
   "source": []
  }
 ],
 "metadata": {
  "kernelspec": {
   "display_name": "Python 3 (ipykernel)",
   "language": "python",
   "name": "python3"
  },
  "language_info": {
   "codemirror_mode": {
    "name": "ipython",
    "version": 3
   },
   "file_extension": ".py",
   "mimetype": "text/x-python",
   "name": "python",
   "nbconvert_exporter": "python",
   "pygments_lexer": "ipython3",
   "version": "3.9.7"
  }
 },
 "nbformat": 4,
 "nbformat_minor": 5
}
