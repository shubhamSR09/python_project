{
 "cells": [
  {
   "cell_type": "code",
   "execution_count": 1,
   "id": "6a309cd8",
   "metadata": {},
   "outputs": [],
   "source": [
    "from tkinter import*\n",
    "window = Tk()"
   ]
  },
  {
   "cell_type": "code",
   "execution_count": 2,
   "id": "8be91937",
   "metadata": {},
   "outputs": [],
   "source": [
    "def convertor():\n",
    "    gram = float(e2_value.get())*1000\n",
    "    pound = float(e2_value.get())*2.20462\n",
    "    ounce = float(e2_value.get())*35.274\n",
    "    \n",
    "    t1.insert(END,gram)\n",
    "    \n",
    "    t2.insert(END,pound)\n",
    "    \n",
    "    t3.insert(END,ounce)\n",
    "    \n",
    "e1 =Label(window,text = \"Enter the weight in kg\")\n",
    "e2_value = StringVar()\n",
    "e2=Entry(window,textvariable = e2_value)\n",
    "e3=Label(window,text =\"gram \")\n",
    "e4=Label(window,text =\"Pounds \")\n",
    "e5=Label(window,text =\"ounce\")\n",
    "\n",
    "t1 = Text(window,height = 1, width =20)\n",
    "t2 = Text(window,height = 1, width =20)\n",
    "t3 = Text(window,height = 1, width =20)\n",
    "\n",
    "btn =Button(window, text=\"Convert\",command =convertor)\n",
    "\n",
    "e1.grid(row=0,column=0)\n",
    "e2.grid(row=0,column=1)\n",
    "e3.grid(row=1,column=0)\n",
    "e4.grid(row=1,column=1)\n",
    "e5.grid(row=1,column=2)\n",
    "btn.grid(row=0,column=2)\n",
    "\n",
    "\n",
    "t1.grid(row=2,column=0)\n",
    "t2.grid(row=2,column=1)\n",
    "t3.grid(row=2,column=2)\n",
    "\n",
    "window.mainloop()"
   ]
  },
  {
   "cell_type": "markdown",
   "id": "1ef55f40",
   "metadata": {},
   "source": []
  }
 ],
 "metadata": {
  "kernelspec": {
   "display_name": "Python 3 (ipykernel)",
   "language": "python",
   "name": "python3"
  },
  "language_info": {
   "codemirror_mode": {
    "name": "ipython",
    "version": 3
   },
   "file_extension": ".py",
   "mimetype": "text/x-python",
   "name": "python",
   "nbconvert_exporter": "python",
   "pygments_lexer": "ipython3",
   "version": "3.9.7"
  }
 },
 "nbformat": 4,
 "nbformat_minor": 5
}
