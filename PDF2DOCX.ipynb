{
 "cells": [
  {
   "cell_type": "code",
   "execution_count": 6,
   "id": "970c5617",
   "metadata": {},
   "outputs": [
    {
     "name": "stderr",
     "output_type": "stream",
     "text": [
      "[INFO] Start to convert 416IshaTyagi1.pdf\n",
      "[INFO] \u001b[1;36m[1/4] Opening document...\u001b[0m\n",
      "[INFO] \u001b[1;36m[2/4] Analyzing document...\u001b[0m\n",
      "[WARNING] Ignore Line \"Copyright © 2012 Ola Zur | www.really-learn-english.com | Page 1 \" due to overlap\n",
      "[INFO] \u001b[1;36m[3/4] Parsing pages...\u001b[0m\n",
      "[INFO] (1/11) Page 1\n",
      "[INFO] (2/11) Page 2\n",
      "[INFO] (3/11) Page 3\n",
      "[INFO] (4/11) Page 4\n",
      "[INFO] (5/11) Page 5\n",
      "[INFO] (6/11) Page 6\n",
      "[INFO] (7/11) Page 7\n",
      "[INFO] (8/11) Page 8\n",
      "[INFO] (9/11) Page 9\n",
      "[INFO] (10/11) Page 10\n",
      "[INFO] (11/11) Page 11\n",
      "[INFO] \u001b[1;36m[4/4] Creating pages...\u001b[0m\n",
      "[INFO] (1/11) Page 1\n",
      "[INFO] (2/11) Page 2\n",
      "[INFO] (3/11) Page 3\n",
      "[INFO] (4/11) Page 4\n",
      "[INFO] (5/11) Page 5\n",
      "[INFO] (6/11) Page 6\n",
      "[INFO] (7/11) Page 7\n",
      "[INFO] (8/11) Page 8\n",
      "[INFO] (9/11) Page 9\n",
      "[INFO] (10/11) Page 10\n",
      "[INFO] (11/11) Page 11\n",
      "[INFO] Terminated in 13.83s.\n"
     ]
    }
   ],
   "source": [
    "from pdf2docx import Converter, parse\n",
    "\n",
    "pdf_file='416IshaTyagi1.pdf'\n",
    "word_file='shubh.docx'\n",
    "\n",
    "cv=Converter(pdf_file)\n",
    "cv.convert(word_file, start=0,end=None)\n",
    "cv.close()\n",
    "\n",
    "\n",
    "#parse(pdf_file,word_file, start=0, end=None)"
   ]
  },
  {
   "cell_type": "code",
   "execution_count": null,
   "id": "f9095a39",
   "metadata": {},
   "outputs": [],
   "source": []
  }
 ],
 "metadata": {
  "kernelspec": {
   "display_name": "Python 3 (ipykernel)",
   "language": "python",
   "name": "python3"
  },
  "language_info": {
   "codemirror_mode": {
    "name": "ipython",
    "version": 3
   },
   "file_extension": ".py",
   "mimetype": "text/x-python",
   "name": "python",
   "nbconvert_exporter": "python",
   "pygments_lexer": "ipython3",
   "version": "3.9.7"
  }
 },
 "nbformat": 4,
 "nbformat_minor": 5
}
